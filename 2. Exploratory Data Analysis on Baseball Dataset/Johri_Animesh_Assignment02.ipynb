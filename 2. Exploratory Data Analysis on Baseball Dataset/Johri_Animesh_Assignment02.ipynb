{
 "cells": [
  {
   "cell_type": "code",
   "execution_count": 1,
   "metadata": {
    "collapsed": true
   },
   "outputs": [],
   "source": [
    "import numpy as np"
   ]
  },
  {
   "cell_type": "code",
   "execution_count": 2,
   "metadata": {
    "collapsed": true
   },
   "outputs": [],
   "source": [
    "import pandas as pd"
   ]
  },
  {
   "cell_type": "markdown",
   "metadata": {},
   "source": [
    "1) Load in the appropriate csv file as a pandas dataframe (batting.csv)"
   ]
  },
  {
   "cell_type": "code",
   "execution_count": 161,
   "metadata": {
    "collapsed": true
   },
   "outputs": [],
   "source": [
    "df = pd.read_csv('C:\\\\Users\\\\anime\\\\Desktop\\\\UTD_STUDY\\\\Fall_2018\\\\Programming for Data Science\\\\\\Homework\\\\HW2\\\\Batting.csv')"
   ]
  },
  {
   "cell_type": "markdown",
   "metadata": {},
   "source": [
    "2)\tPrint out the dimensions and info about the dataframe you just created"
   ]
  },
  {
   "cell_type": "code",
   "execution_count": 4,
   "metadata": {},
   "outputs": [
    {
     "name": "stdout",
     "output_type": "stream",
     "text": [
      "(102816, 25)\n"
     ]
    }
   ],
   "source": [
    "#Dimensions of Dataframe\n",
    "#shape will give the number of rows and columns in the daraframe\n",
    "print(df.shape)"
   ]
  },
  {
   "cell_type": "code",
   "execution_count": 5,
   "metadata": {},
   "outputs": [
    {
     "data": {
      "text/plain": [
       "102816"
      ]
     },
     "execution_count": 5,
     "metadata": {},
     "output_type": "execute_result"
    }
   ],
   "source": [
    "#To get the number of rows of the data frame\n",
    "len(df)"
   ]
  },
  {
   "cell_type": "code",
   "execution_count": 6,
   "metadata": {},
   "outputs": [
    {
     "data": {
      "text/plain": [
       "2570400"
      ]
     },
     "execution_count": 6,
     "metadata": {},
     "output_type": "execute_result"
    }
   ],
   "source": [
    "#To get the total number of elements in the DataFrame\n",
    "df.size"
   ]
  },
  {
   "cell_type": "code",
   "execution_count": 7,
   "metadata": {},
   "outputs": [
    {
     "name": "stdout",
     "output_type": "stream",
     "text": [
      "<class 'pandas.core.frame.DataFrame'>\n",
      "RangeIndex: 102816 entries, 0 to 102815\n",
      "Data columns (total 25 columns):\n",
      "playerID     102816 non-null object\n",
      "nameFirst    102816 non-null object\n",
      "nameLast     102816 non-null object\n",
      "birthYear    102816 non-null int64\n",
      "yearID       102816 non-null int64\n",
      "stint        102816 non-null int64\n",
      "teamID       102816 non-null object\n",
      "lgID         102079 non-null object\n",
      "G            102816 non-null int64\n",
      "AB           102816 non-null int64\n",
      "R            102816 non-null int64\n",
      "H            102816 non-null int64\n",
      "2B           102816 non-null int64\n",
      "3B           102816 non-null int64\n",
      "HR           102816 non-null int64\n",
      "RBI          102392 non-null float64\n",
      "SB           101516 non-null float64\n",
      "CS           79360 non-null float64\n",
      "BB           102816 non-null int64\n",
      "SO           94978 non-null float64\n",
      "IBB          66251 non-null float64\n",
      "HBP          100006 non-null float64\n",
      "SH           96478 non-null float64\n",
      "SF           66782 non-null float64\n",
      "GIDP         76706 non-null float64\n",
      "dtypes: float64(9), int64(11), object(5)\n",
      "memory usage: 19.6+ MB\n",
      "None\n"
     ]
    }
   ],
   "source": [
    "# info about the dataframe\n",
    "print(df.info())"
   ]
  },
  {
   "cell_type": "markdown",
   "metadata": {},
   "source": [
    "3)\tHow many players have hit 40 or more HRs in one single season? (Number only)"
   ]
  },
  {
   "cell_type": "code",
   "execution_count": 405,
   "metadata": {},
   "outputs": [
    {
     "data": {
      "text/plain": [
       "330"
      ]
     },
     "execution_count": 405,
     "metadata": {},
     "output_type": "execute_result"
    }
   ],
   "source": [
    "#Doubt\n",
    "#df_season = df[df['HR'] > 40].loc('playerID')\n",
    "a = (df.groupby(['playerID','yearID' ]))['HR'].sum().reset_index()\n",
    "b = (a[a['HR'] >=40]).reset_index(drop = True)\n",
    "#b['playerID'].nunique()\n",
    "b['playerID'].count()"
   ]
  },
  {
   "cell_type": "markdown",
   "metadata": {},
   "source": [
    "4)\tHow many players have hit 600 or more HRs for their career? (Dataframe with name and player first and last name only and amount of HRs)"
   ]
  },
  {
   "cell_type": "code",
   "execution_count": 317,
   "metadata": {},
   "outputs": [
    {
     "name": "stdout",
     "output_type": "stream",
     "text": [
      "  nameFirst   nameLast   HR\n",
      "0      Hank      Aaron  755\n",
      "1     Barry      Bonds  762\n",
      "2       Ken    Griffey  630\n",
      "3    Willie       Mays  660\n",
      "4      Alex  Rodriguez  696\n",
      "5      Babe       Ruth  714\n",
      "6     Sammy       Sosa  609\n",
      "7       Jim      Thome  612\n",
      "\n",
      "Numbers of players scoring more than 600 home runs = 8\n"
     ]
    }
   ],
   "source": [
    "a = (df.groupby(['playerID','nameFirst', 'nameLast']))['HR'].sum().reset_index()\n",
    "b = a[a['HR'] >= 600].reset_index(drop = True)\n",
    "print(b[['nameFirst', 'nameLast', 'HR']])\n",
    "rows = len(a[a['HR'] >= 600])\n",
    "str1 = '\\nNumbers of players scoring more than 600 home runs = '\n",
    "str2 = str(rows)\n",
    "print(str1 + str2)\n"
   ]
  },
  {
   "cell_type": "markdown",
   "metadata": {
    "collapsed": true
   },
   "source": [
    "5) How many unique players have hit 40 2Bs or more, 10 3Bs or more, 200 Hits or more, and 30 HRs or more in one season? (Number Only)"
   ]
  },
  {
   "cell_type": "code",
   "execution_count": 451,
   "metadata": {},
   "outputs": [
    {
     "data": {
      "text/plain": [
       "11"
      ]
     },
     "execution_count": 451,
     "metadata": {},
     "output_type": "execute_result"
    }
   ],
   "source": [
    "a = (df.groupby(['playerID','yearID' ]))['2B','3B','H','HR',].sum().reset_index()\n",
    "b = (a[(a['2B'] >= 40) & (a['3B'] >= 10) & (a['H'] >= 200) & (a['HR'] >= 30)]).reset_index(drop = True)\n",
    "b['playerID'].nunique()\n"
   ]
  },
  {
   "cell_type": "markdown",
   "metadata": {},
   "source": [
    "6) How many players seasons have had 100 or more SBs? (Dataframe, first name, last name, yearID, number of SBs, ordered from descending SBs )"
   ]
  },
  {
   "cell_type": "code",
   "execution_count": 452,
   "metadata": {},
   "outputs": [
    {
     "name": "stdout",
     "output_type": "stream",
     "text": [
      "   nameFirst   nameLast  yearID     SB\n",
      "0       Hugh      Nicol    1887  138.0\n",
      "1     Rickey  Henderson    1982  130.0\n",
      "2      Arlie     Latham    1887  129.0\n",
      "3        Lou      Brock    1974  118.0\n",
      "4    Charlie   Comiskey    1887  117.0\n",
      "5      Billy   Hamilton    1889  111.0\n",
      "6       John       Ward    1887  111.0\n",
      "7      Billy   Hamilton    1891  111.0\n",
      "8      Vince    Coleman    1985  110.0\n",
      "9      Vince    Coleman    1987  109.0\n",
      "10     Arlie     Latham    1888  109.0\n",
      "11    Rickey  Henderson    1983  108.0\n",
      "12     Vince    Coleman    1986  107.0\n",
      "13       Tom      Brown    1891  106.0\n",
      "14     Maury      Wills    1962  104.0\n",
      "15      Pete   Browning    1887  103.0\n",
      "16      Hugh      Nicol    1888  103.0\n",
      "17       Jim    Fogarty    1887  102.0\n",
      "18     Billy   Hamilton    1890  102.0\n",
      "19    Rickey  Henderson    1980  100.0\n",
      "\n",
      "\n",
      "20 players seasons have had 100 or more SBs\n"
     ]
    }
   ],
   "source": [
    "a = (df.groupby(['playerID','nameFirst', 'nameLast','yearID']))['SB'].sum().reset_index()\n",
    "b = a[a['SB'] >= 100].sort_values(by=['SB'], ascending=False).reset_index(drop = True)\n",
    "c = b[['nameFirst', 'nameLast','yearID','SB' ]]\n",
    "print(c)\n",
    "rows = len(c)\n",
    "str1 = str(rows)\n",
    "str2 = ' players seasons have had 100 or more SBs'\n",
    "print('\\n')\n",
    "print(str1 +str2)\n"
   ]
  },
  {
   "cell_type": "markdown",
   "metadata": {},
   "source": [
    "7)\tHow many players in the 1960s (yearID) have hit 200 or more HRs? (Dataframe, first name, last name, number of HRs, ordered descending by HR amt)"
   ]
  },
  {
   "cell_type": "code",
   "execution_count": 453,
   "metadata": {},
   "outputs": [
    {
     "name": "stdout",
     "output_type": "stream",
     "text": [
      "   nameFirst     nameLast   HR\n",
      "0     Harmon    Killebrew  393\n",
      "1       Hank        Aaron  375\n",
      "2     Willie         Mays  350\n",
      "3      Frank     Robinson  316\n",
      "4     Willie      McCovey  300\n",
      "5      Frank       Howard  288\n",
      "6       Norm         Cash  278\n",
      "7      Ernie        Banks  269\n",
      "8     Mickey       Mantle  256\n",
      "9    Orlando       Cepeda  254\n",
      "10       Ron        Santo  253\n",
      "11     Billy     Williams  249\n",
      "12     Rocky     Colavito  245\n",
      "13       Bob      Allison  225\n",
      "14     Roger        Maris  217\n",
      "15     Eddie      Mathews  213\n",
      "16        Al       Kaline  210\n",
      "17      Boog       Powell  202\n",
      "18      Carl  Yastrzemski  202\n",
      "\n",
      "\n",
      "19 players in the 1960s (yearID) have hit 200 or more HRs\n"
     ]
    }
   ],
   "source": [
    "a = df[(df['yearID'] >=1960) & (df['yearID'] <=1969)]\n",
    "b = (a.groupby(['playerID','nameFirst', 'nameLast']))['HR'].sum().reset_index()\n",
    "c = b[b['HR'] >= 200].sort_values(by=['HR'], ascending=False).reset_index(drop = True)\n",
    "d = c[['nameFirst', 'nameLast', 'HR']]\n",
    "print(d)\n",
    "rows = len(d)\n",
    "str1 = str(rows)\n",
    "str2 = ' players in the 1960s (yearID) have hit 200 or more HRs'\n",
    "print('\\n')\n",
    "print(str1 +str2)\n"
   ]
  },
  {
   "cell_type": "markdown",
   "metadata": {},
   "source": [
    "8)\tWho has hit the most HRs in history? (Dataframe, first name, last name, HRs)"
   ]
  },
  {
   "cell_type": "code",
   "execution_count": 454,
   "metadata": {},
   "outputs": [
    {
     "data": {
      "text/html": [
       "<div>\n",
       "<style>\n",
       "    .dataframe thead tr:only-child th {\n",
       "        text-align: right;\n",
       "    }\n",
       "\n",
       "    .dataframe thead th {\n",
       "        text-align: left;\n",
       "    }\n",
       "\n",
       "    .dataframe tbody tr th {\n",
       "        vertical-align: top;\n",
       "    }\n",
       "</style>\n",
       "<table border=\"1\" class=\"dataframe\">\n",
       "  <thead>\n",
       "    <tr style=\"text-align: right;\">\n",
       "      <th></th>\n",
       "      <th>nameFirst</th>\n",
       "      <th>nameLast</th>\n",
       "      <th>HR</th>\n",
       "    </tr>\n",
       "  </thead>\n",
       "  <tbody>\n",
       "    <tr>\n",
       "      <th>0</th>\n",
       "      <td>Barry</td>\n",
       "      <td>Bonds</td>\n",
       "      <td>762</td>\n",
       "    </tr>\n",
       "  </tbody>\n",
       "</table>\n",
       "</div>"
      ],
      "text/plain": [
       "  nameFirst nameLast   HR\n",
       "0     Barry    Bonds  762"
      ]
     },
     "execution_count": 454,
     "metadata": {},
     "output_type": "execute_result"
    }
   ],
   "source": [
    "a = df.groupby(['playerID','nameFirst', 'nameLast'])['HR'].sum().reset_index()\n",
    "b = (a.sort_values(by=['HR'], ascending=False)).reset_index(drop = True).head(1)\n",
    "b[['nameFirst','nameLast','HR']]"
   ]
  },
  {
   "cell_type": "markdown",
   "metadata": {},
   "source": [
    "9)\tWho had the most hits (H) in the 1970s? (Dataframe)"
   ]
  },
  {
   "cell_type": "code",
   "execution_count": 455,
   "metadata": {},
   "outputs": [
    {
     "data": {
      "text/html": [
       "<div>\n",
       "<style>\n",
       "    .dataframe thead tr:only-child th {\n",
       "        text-align: right;\n",
       "    }\n",
       "\n",
       "    .dataframe thead th {\n",
       "        text-align: left;\n",
       "    }\n",
       "\n",
       "    .dataframe tbody tr th {\n",
       "        vertical-align: top;\n",
       "    }\n",
       "</style>\n",
       "<table border=\"1\" class=\"dataframe\">\n",
       "  <thead>\n",
       "    <tr style=\"text-align: right;\">\n",
       "      <th></th>\n",
       "      <th>nameFirst</th>\n",
       "      <th>nameLast</th>\n",
       "      <th>H</th>\n",
       "    </tr>\n",
       "  </thead>\n",
       "  <tbody>\n",
       "    <tr>\n",
       "      <th>0</th>\n",
       "      <td>Pete</td>\n",
       "      <td>Rose</td>\n",
       "      <td>2045</td>\n",
       "    </tr>\n",
       "  </tbody>\n",
       "</table>\n",
       "</div>"
      ],
      "text/plain": [
       "  nameFirst nameLast     H\n",
       "0      Pete     Rose  2045"
      ]
     },
     "execution_count": 455,
     "metadata": {},
     "output_type": "execute_result"
    }
   ],
   "source": [
    "a = df[(df['yearID'] >=1970) & (df['yearID'] <=1979)]\n",
    "b = a.groupby(['playerID','nameFirst', 'nameLast'])['H'].sum().reset_index()\n",
    "c = b.sort_values(by=['H'], ascending=False).reset_index(drop = True)\n",
    "c[['nameFirst', 'nameLast','H']].head(1)"
   ]
  },
  {
   "cell_type": "markdown",
   "metadata": {},
   "source": [
    "10)\tTop 5 highest OBP (on base percentage) with at least 500 PAs in 1977?  (Dataframe, first name, last name, OBP, ordered descending by OBP)"
   ]
  },
  {
   "cell_type": "code",
   "execution_count": 456,
   "metadata": {},
   "outputs": [
    {
     "name": "stderr",
     "output_type": "stream",
     "text": [
      "C:\\Users\\anime\\Anaconda3\\lib\\site-packages\\ipykernel_launcher.py:2: SettingWithCopyWarning: \n",
      "A value is trying to be set on a copy of a slice from a DataFrame.\n",
      "Try using .loc[row_indexer,col_indexer] = value instead\n",
      "\n",
      "See the caveats in the documentation: http://pandas.pydata.org/pandas-docs/stable/indexing.html#indexing-view-versus-copy\n",
      "  \n",
      "C:\\Users\\anime\\Anaconda3\\lib\\site-packages\\ipykernel_launcher.py:6: SettingWithCopyWarning: \n",
      "A value is trying to be set on a copy of a slice from a DataFrame.\n",
      "Try using .loc[row_indexer,col_indexer] = value instead\n",
      "\n",
      "See the caveats in the documentation: http://pandas.pydata.org/pandas-docs/stable/indexing.html#indexing-view-versus-copy\n",
      "  \n"
     ]
    },
    {
     "data": {
      "text/html": [
       "<div>\n",
       "<style>\n",
       "    .dataframe thead tr:only-child th {\n",
       "        text-align: right;\n",
       "    }\n",
       "\n",
       "    .dataframe thead th {\n",
       "        text-align: left;\n",
       "    }\n",
       "\n",
       "    .dataframe tbody tr th {\n",
       "        vertical-align: top;\n",
       "    }\n",
       "</style>\n",
       "<table border=\"1\" class=\"dataframe\">\n",
       "  <thead>\n",
       "    <tr style=\"text-align: right;\">\n",
       "      <th></th>\n",
       "      <th>nameFirst</th>\n",
       "      <th>nameLast</th>\n",
       "      <th>OBP</th>\n",
       "    </tr>\n",
       "  </thead>\n",
       "  <tbody>\n",
       "    <tr>\n",
       "      <th>0</th>\n",
       "      <td>Rod</td>\n",
       "      <td>Carew</td>\n",
       "      <td>0.448773</td>\n",
       "    </tr>\n",
       "    <tr>\n",
       "      <th>1</th>\n",
       "      <td>Ken</td>\n",
       "      <td>Singleton</td>\n",
       "      <td>0.437788</td>\n",
       "    </tr>\n",
       "    <tr>\n",
       "      <th>2</th>\n",
       "      <td>Reggie</td>\n",
       "      <td>Smith</td>\n",
       "      <td>0.426910</td>\n",
       "    </tr>\n",
       "    <tr>\n",
       "      <th>3</th>\n",
       "      <td>Mike</td>\n",
       "      <td>Hargrove</td>\n",
       "      <td>0.420312</td>\n",
       "    </tr>\n",
       "    <tr>\n",
       "      <th>4</th>\n",
       "      <td>Joe</td>\n",
       "      <td>Morgan</td>\n",
       "      <td>0.417054</td>\n",
       "    </tr>\n",
       "  </tbody>\n",
       "</table>\n",
       "</div>"
      ],
      "text/plain": [
       "  nameFirst   nameLast       OBP\n",
       "0       Rod      Carew  0.448773\n",
       "1       Ken  Singleton  0.437788\n",
       "2    Reggie      Smith  0.426910\n",
       "3      Mike   Hargrove  0.420312\n",
       "4       Joe     Morgan  0.417054"
      ]
     },
     "execution_count": 456,
     "metadata": {},
     "output_type": "execute_result"
    }
   ],
   "source": [
    "a = df[df['yearID'] == 1977]\n",
    "a['PA'] = (a['AB']+ a['BB'] + a['HBP'] + a['SH'] + a['SF'])\n",
    "b = a[a['PA'] >= 500]\n",
    "#a[['AB', 'BB', 'HBP', 'SH', 'SF']].sum(axis=1)\n",
    "#.apply(lambda row: row['AB'] + row['BB'] + row['SH']+ row['HBP']+ row['SF'], axis=1) \n",
    "b['OBP'] = ((a['H']+ a['BB'] + a['HBP'])/ (a['AB']+ a['BB'] + a['HBP'] + a['SF']))\n",
    "c = b.sort_values(by=['OBP'], ascending=False).reset_index(drop = True).head()\n",
    "c[['nameFirst', 'nameLast', 'OBP']]"
   ]
  },
  {
   "cell_type": "markdown",
   "metadata": {},
   "source": [
    "11)\tTop 8 highest averages in 2013 with at least 300 PAs? (Dataframe, first name, last name, average, descending by average)"
   ]
  },
  {
   "cell_type": "code",
   "execution_count": 338,
   "metadata": {},
   "outputs": [
    {
     "name": "stderr",
     "output_type": "stream",
     "text": [
      "C:\\Users\\anime\\Anaconda3\\lib\\site-packages\\ipykernel_launcher.py:2: SettingWithCopyWarning: \n",
      "A value is trying to be set on a copy of a slice from a DataFrame.\n",
      "Try using .loc[row_indexer,col_indexer] = value instead\n",
      "\n",
      "See the caveats in the documentation: http://pandas.pydata.org/pandas-docs/stable/indexing.html#indexing-view-versus-copy\n",
      "  \n",
      "C:\\Users\\anime\\Anaconda3\\lib\\site-packages\\ipykernel_launcher.py:5: SettingWithCopyWarning: \n",
      "A value is trying to be set on a copy of a slice from a DataFrame.\n",
      "Try using .loc[row_indexer,col_indexer] = value instead\n",
      "\n",
      "See the caveats in the documentation: http://pandas.pydata.org/pandas-docs/stable/indexing.html#indexing-view-versus-copy\n",
      "  \"\"\"\n"
     ]
    },
    {
     "data": {
      "text/html": [
       "<div>\n",
       "<style>\n",
       "    .dataframe thead tr:only-child th {\n",
       "        text-align: right;\n",
       "    }\n",
       "\n",
       "    .dataframe thead th {\n",
       "        text-align: left;\n",
       "    }\n",
       "\n",
       "    .dataframe tbody tr th {\n",
       "        vertical-align: top;\n",
       "    }\n",
       "</style>\n",
       "<table border=\"1\" class=\"dataframe\">\n",
       "  <thead>\n",
       "    <tr style=\"text-align: right;\">\n",
       "      <th></th>\n",
       "      <th>nameFirst</th>\n",
       "      <th>nameLast</th>\n",
       "      <th>BA</th>\n",
       "    </tr>\n",
       "  </thead>\n",
       "  <tbody>\n",
       "    <tr>\n",
       "      <th>0</th>\n",
       "      <td>Miguel</td>\n",
       "      <td>Cabrera</td>\n",
       "      <td>0.347748</td>\n",
       "    </tr>\n",
       "    <tr>\n",
       "      <th>1</th>\n",
       "      <td>Hanley</td>\n",
       "      <td>Ramirez</td>\n",
       "      <td>0.345395</td>\n",
       "    </tr>\n",
       "    <tr>\n",
       "      <th>2</th>\n",
       "      <td>Michael</td>\n",
       "      <td>Cuddyer</td>\n",
       "      <td>0.331288</td>\n",
       "    </tr>\n",
       "    <tr>\n",
       "      <th>3</th>\n",
       "      <td>Joe</td>\n",
       "      <td>Mauer</td>\n",
       "      <td>0.323596</td>\n",
       "    </tr>\n",
       "    <tr>\n",
       "      <th>4</th>\n",
       "      <td>Mike</td>\n",
       "      <td>Trout</td>\n",
       "      <td>0.322581</td>\n",
       "    </tr>\n",
       "    <tr>\n",
       "      <th>5</th>\n",
       "      <td>Chris</td>\n",
       "      <td>Johnson</td>\n",
       "      <td>0.321012</td>\n",
       "    </tr>\n",
       "    <tr>\n",
       "      <th>6</th>\n",
       "      <td>Freddie</td>\n",
       "      <td>Freeman</td>\n",
       "      <td>0.319419</td>\n",
       "    </tr>\n",
       "    <tr>\n",
       "      <th>7</th>\n",
       "      <td>Yasiel</td>\n",
       "      <td>Puig</td>\n",
       "      <td>0.319372</td>\n",
       "    </tr>\n",
       "  </tbody>\n",
       "</table>\n",
       "</div>"
      ],
      "text/plain": [
       "  nameFirst nameLast        BA\n",
       "0    Miguel  Cabrera  0.347748\n",
       "1    Hanley  Ramirez  0.345395\n",
       "2   Michael  Cuddyer  0.331288\n",
       "3       Joe    Mauer  0.323596\n",
       "4      Mike    Trout  0.322581\n",
       "5     Chris  Johnson  0.321012\n",
       "6   Freddie  Freeman  0.319419\n",
       "7    Yasiel     Puig  0.319372"
      ]
     },
     "execution_count": 338,
     "metadata": {},
     "output_type": "execute_result"
    }
   ],
   "source": [
    "a = df[df['yearID'] == 2013]\n",
    "a['PA'] = (a['AB']+ a['BB'] + a['HBP'] + a['SH'] + a['SF'])\n",
    "b = a[a['PA'] >= 300]\n",
    "#Calculating Batting Average\n",
    "b['BA'] = (b['H']/b['AB'])\n",
    "# Sorting in ascending order by batting average \n",
    "c = b.sort_values(by=['BA'], ascending=False).reset_index(drop = True).head(8)\n",
    "c[['nameFirst', 'nameLast', 'BA']]"
   ]
  },
  {
   "cell_type": "markdown",
   "metadata": {},
   "source": [
    "12)\tLeaders in hits from 1940 up to and including 1949. (Dataframe, first name, last name, number of hits) (Top 5 is required)"
   ]
  },
  {
   "cell_type": "code",
   "execution_count": 368,
   "metadata": {},
   "outputs": [
    {
     "data": {
      "text/html": [
       "<div>\n",
       "<style>\n",
       "    .dataframe thead tr:only-child th {\n",
       "        text-align: right;\n",
       "    }\n",
       "\n",
       "    .dataframe thead th {\n",
       "        text-align: left;\n",
       "    }\n",
       "\n",
       "    .dataframe tbody tr th {\n",
       "        vertical-align: top;\n",
       "    }\n",
       "</style>\n",
       "<table border=\"1\" class=\"dataframe\">\n",
       "  <thead>\n",
       "    <tr style=\"text-align: right;\">\n",
       "      <th></th>\n",
       "      <th>nameFirst</th>\n",
       "      <th>nameLast</th>\n",
       "      <th>H</th>\n",
       "    </tr>\n",
       "  </thead>\n",
       "  <tbody>\n",
       "    <tr>\n",
       "      <th>0</th>\n",
       "      <td>Lou</td>\n",
       "      <td>Boudreau</td>\n",
       "      <td>1578</td>\n",
       "    </tr>\n",
       "    <tr>\n",
       "      <th>1</th>\n",
       "      <td>Bob</td>\n",
       "      <td>Elliott</td>\n",
       "      <td>1563</td>\n",
       "    </tr>\n",
       "    <tr>\n",
       "      <th>2</th>\n",
       "      <td>Dixie</td>\n",
       "      <td>Walker</td>\n",
       "      <td>1512</td>\n",
       "    </tr>\n",
       "    <tr>\n",
       "      <th>3</th>\n",
       "      <td>Stan</td>\n",
       "      <td>Musial</td>\n",
       "      <td>1432</td>\n",
       "    </tr>\n",
       "    <tr>\n",
       "      <th>4</th>\n",
       "      <td>Bobby</td>\n",
       "      <td>Doerr</td>\n",
       "      <td>1407</td>\n",
       "    </tr>\n",
       "  </tbody>\n",
       "</table>\n",
       "</div>"
      ],
      "text/plain": [
       "  nameFirst  nameLast     H\n",
       "0       Lou  Boudreau  1578\n",
       "1       Bob   Elliott  1563\n",
       "2     Dixie    Walker  1512\n",
       "3      Stan    Musial  1432\n",
       "4     Bobby     Doerr  1407"
      ]
     },
     "execution_count": 368,
     "metadata": {},
     "output_type": "execute_result"
    }
   ],
   "source": [
    "a = df[(df['yearID'] >= 1940) & (df['yearID'] <= 1949)]\n",
    "b = (a.groupby([ 'playerID','nameFirst', 'nameLast']))['H'].sum().reset_index()\n",
    "c = b.sort_values(by=['H'], ascending=False).reset_index(drop = True)\n",
    "c[['nameFirst', 'nameLast', 'H']].head()"
   ]
  },
  {
   "cell_type": "markdown",
   "metadata": {},
   "source": [
    "13)\tWho led MLB with the most hits the most times?  And how many times?  (Dataframe, Number of hits)"
   ]
  },
  {
   "cell_type": "code",
   "execution_count": 465,
   "metadata": {},
   "outputs": [],
   "source": [
    "a = df.groupby(['playerID','nameFirst', 'nameLast','yearID'])['H'].sum().reset_index()\n",
    "b = a.sort_values(['yearID', 'H'], ascending=[True, False]).drop_duplicates(['yearID']).reset_index(drop=True)\n",
    "grouped = (b.groupby(['playerID','nameFirst','nameLast'])).size().reset_index().rename(columns={0:'count'})\n",
    "c1 = grouped.sort_values(by=['count'], ascending=False)\n",
    "#c1\n"
   ]
  },
  {
   "cell_type": "code",
   "execution_count": 422,
   "metadata": {},
   "outputs": [],
   "source": [
    "a = df.groupby(['playerID','nameFirst', 'nameLast','yearID'])['H'].sum().reset_index()\n",
    "b = a.sort_values(['yearID', 'H'], ascending=[True, False]).drop_duplicates(['yearID']).reset_index(drop=True)\n",
    "grouped = (b.groupby(['playerID','nameFirst','nameLast']))['H'].sum()\n",
    "c2 =grouped.reset_index().rename(columns={0:'TH'}).sort_values(by=['H'], ascending=False)\n",
    "#c2\n"
   ]
  },
  {
   "cell_type": "code",
   "execution_count": 458,
   "metadata": {},
   "outputs": [
    {
     "data": {
      "text/html": [
       "<div>\n",
       "<style>\n",
       "    .dataframe thead tr:only-child th {\n",
       "        text-align: right;\n",
       "    }\n",
       "\n",
       "    .dataframe thead th {\n",
       "        text-align: left;\n",
       "    }\n",
       "\n",
       "    .dataframe tbody tr th {\n",
       "        vertical-align: top;\n",
       "    }\n",
       "</style>\n",
       "<table border=\"1\" class=\"dataframe\">\n",
       "  <thead>\n",
       "    <tr style=\"text-align: right;\">\n",
       "      <th></th>\n",
       "      <th>playerID</th>\n",
       "      <th>nameFirst</th>\n",
       "      <th>nameLast</th>\n",
       "      <th>count</th>\n",
       "      <th>H</th>\n",
       "    </tr>\n",
       "  </thead>\n",
       "  <tbody>\n",
       "    <tr>\n",
       "      <th>0</th>\n",
       "      <td>cobbty01</td>\n",
       "      <td>Ty</td>\n",
       "      <td>Cobb</td>\n",
       "      <td>7</td>\n",
       "      <td>1526</td>\n",
       "    </tr>\n",
       "  </tbody>\n",
       "</table>\n",
       "</div>"
      ],
      "text/plain": [
       "   playerID nameFirst nameLast  count     H\n",
       "0  cobbty01        Ty     Cobb      7  1526"
      ]
     },
     "execution_count": 458,
     "metadata": {},
     "output_type": "execute_result"
    }
   ],
   "source": [
    "# count = Number of times that player scored highest in a season \n",
    "# H = Total Number of hits scored in all the seasons in which the player scored highest hits \n",
    "d = pd.merge(c1,c2,how='outer')\n",
    "d.head(1)\n"
   ]
  },
  {
   "cell_type": "markdown",
   "metadata": {},
   "source": [
    "14) Which players have played the most games for their careers?  Top 5 first name, last name, descending by games played presented as a dataframe"
   ]
  },
  {
   "cell_type": "code",
   "execution_count": 426,
   "metadata": {},
   "outputs": [
    {
     "data": {
      "text/html": [
       "<div>\n",
       "<style>\n",
       "    .dataframe thead tr:only-child th {\n",
       "        text-align: right;\n",
       "    }\n",
       "\n",
       "    .dataframe thead th {\n",
       "        text-align: left;\n",
       "    }\n",
       "\n",
       "    .dataframe tbody tr th {\n",
       "        vertical-align: top;\n",
       "    }\n",
       "</style>\n",
       "<table border=\"1\" class=\"dataframe\">\n",
       "  <thead>\n",
       "    <tr style=\"text-align: right;\">\n",
       "      <th></th>\n",
       "      <th>nameFirst</th>\n",
       "      <th>nameLast</th>\n",
       "      <th>freq</th>\n",
       "    </tr>\n",
       "  </thead>\n",
       "  <tbody>\n",
       "    <tr>\n",
       "      <th>0</th>\n",
       "      <td>Deacon</td>\n",
       "      <td>McGuire</td>\n",
       "      <td>31</td>\n",
       "    </tr>\n",
       "    <tr>\n",
       "      <th>1</th>\n",
       "      <td>Rickey</td>\n",
       "      <td>Henderson</td>\n",
       "      <td>29</td>\n",
       "    </tr>\n",
       "    <tr>\n",
       "      <th>2</th>\n",
       "      <td>Bobo</td>\n",
       "      <td>Newsom</td>\n",
       "      <td>29</td>\n",
       "    </tr>\n",
       "    <tr>\n",
       "      <th>3</th>\n",
       "      <td>Jim</td>\n",
       "      <td>Kaat</td>\n",
       "      <td>28</td>\n",
       "    </tr>\n",
       "    <tr>\n",
       "      <th>4</th>\n",
       "      <td>Tommy</td>\n",
       "      <td>John</td>\n",
       "      <td>28</td>\n",
       "    </tr>\n",
       "  </tbody>\n",
       "</table>\n",
       "</div>"
      ],
      "text/plain": [
       "  nameFirst   nameLast  freq\n",
       "0    Deacon    McGuire    31\n",
       "1    Rickey  Henderson    29\n",
       "2      Bobo     Newsom    29\n",
       "3       Jim       Kaat    28\n",
       "4     Tommy       John    28"
      ]
     },
     "execution_count": 426,
     "metadata": {},
     "output_type": "execute_result"
    }
   ],
   "source": [
    "a=df\n",
    "a['freq'] = df.groupby('playerID')['playerID'].transform('count')\n",
    "b = a[['nameFirst', 'nameLast', 'freq']]\n",
    "c = b.sort_values(by = ['freq'], ascending = False)\n",
    "d = c.drop_duplicates().reset_index(drop = True)\n",
    "d.head()"
   ]
  },
  {
   "cell_type": "markdown",
   "metadata": {},
   "source": [
    "15)\tHow many players have had more 3000 or more hits for their careers while also hitting 500 or more HRs?  Just a number is okay here"
   ]
  },
  {
   "cell_type": "code",
   "execution_count": 428,
   "metadata": {},
   "outputs": [
    {
     "data": {
      "text/plain": [
       "5"
      ]
     },
     "execution_count": 428,
     "metadata": {},
     "output_type": "execute_result"
    }
   ],
   "source": [
    "a = df[['playerID', 'H','HR']]\n",
    "b = a.groupby('playerID').sum()\n",
    "c= b[(b['H'] >= 3000) & (b['HR'] >= 500)]\n",
    "len(c)\n"
   ]
  },
  {
   "cell_type": "markdown",
   "metadata": {},
   "source": [
    "16) How many HRs were hit during the entire 1988 season?  Just a number is okay here"
   ]
  },
  {
   "cell_type": "code",
   "execution_count": 160,
   "metadata": {},
   "outputs": [
    {
     "data": {
      "text/plain": [
       "3180"
      ]
     },
     "execution_count": 160,
     "metadata": {},
     "output_type": "execute_result"
    }
   ],
   "source": [
    "a = df[df['yearID'] ==1988]\n",
    "b = a[['yearID', 'HR']]\n",
    "c = b.groupby('yearID').sum()\n",
    "c.iloc[0]['HR']"
   ]
  },
  {
   "cell_type": "markdown",
   "metadata": {},
   "source": [
    "17)\t Please filter out and show me the top 3 average seasons by Wade Boggs during his career in seasons in which he had at least 500 or more ABs.  Dataframe, first name, last name, average, descending by average"
   ]
  },
  {
   "cell_type": "code",
   "execution_count": 333,
   "metadata": {},
   "outputs": [
    {
     "name": "stderr",
     "output_type": "stream",
     "text": [
      "C:\\Users\\anime\\Anaconda3\\lib\\site-packages\\ipykernel_launcher.py:2: SettingWithCopyWarning: \n",
      "A value is trying to be set on a copy of a slice from a DataFrame.\n",
      "Try using .loc[row_indexer,col_indexer] = value instead\n",
      "\n",
      "See the caveats in the documentation: http://pandas.pydata.org/pandas-docs/stable/indexing.html#indexing-view-versus-copy\n",
      "  \n"
     ]
    },
    {
     "data": {
      "text/html": [
       "<div>\n",
       "<style>\n",
       "    .dataframe thead tr:only-child th {\n",
       "        text-align: right;\n",
       "    }\n",
       "\n",
       "    .dataframe thead th {\n",
       "        text-align: left;\n",
       "    }\n",
       "\n",
       "    .dataframe tbody tr th {\n",
       "        vertical-align: top;\n",
       "    }\n",
       "</style>\n",
       "<table border=\"1\" class=\"dataframe\">\n",
       "  <thead>\n",
       "    <tr style=\"text-align: right;\">\n",
       "      <th></th>\n",
       "      <th>nameFirst</th>\n",
       "      <th>nameLast</th>\n",
       "      <th>yearID</th>\n",
       "      <th>AB</th>\n",
       "      <th>BA</th>\n",
       "    </tr>\n",
       "  </thead>\n",
       "  <tbody>\n",
       "    <tr>\n",
       "      <th>0</th>\n",
       "      <td>Wade</td>\n",
       "      <td>Boggs</td>\n",
       "      <td>1985</td>\n",
       "      <td>653</td>\n",
       "      <td>0.367534</td>\n",
       "    </tr>\n",
       "    <tr>\n",
       "      <th>1</th>\n",
       "      <td>Wade</td>\n",
       "      <td>Boggs</td>\n",
       "      <td>1984</td>\n",
       "      <td>625</td>\n",
       "      <td>0.324800</td>\n",
       "    </tr>\n",
       "    <tr>\n",
       "      <th>2</th>\n",
       "      <td>Wade</td>\n",
       "      <td>Boggs</td>\n",
       "      <td>1989</td>\n",
       "      <td>621</td>\n",
       "      <td>0.330113</td>\n",
       "    </tr>\n",
       "  </tbody>\n",
       "</table>\n",
       "</div>"
      ],
      "text/plain": [
       "  nameFirst nameLast  yearID   AB        BA\n",
       "0      Wade    Boggs    1985  653  0.367534\n",
       "1      Wade    Boggs    1984  625  0.324800\n",
       "2      Wade    Boggs    1989  621  0.330113"
      ]
     },
     "execution_count": 333,
     "metadata": {},
     "output_type": "execute_result"
    }
   ],
   "source": [
    "a = df[(df['nameFirst'] == 'Wade') & (df['nameLast'] == 'Boggs')]\n",
    "a['BA'] = (a['H']/a['AB'])\n",
    "b = a[a['AB'] >= 500]\n",
    "c = b[['nameFirst', 'nameLast', 'yearID','AB','BA']]\n",
    "c.sort_values(by = ['AB'], ascending = False).reset_index(drop = True).head(3)"
   ]
  },
  {
   "cell_type": "markdown",
   "metadata": {},
   "source": [
    "18)\t Please filter out the top 10 OBPs for the 1995 season with 400 or more PAs, sorted by OBP descending.  Dataframe with first name, last name, OBP"
   ]
  },
  {
   "cell_type": "code",
   "execution_count": 429,
   "metadata": {},
   "outputs": [
    {
     "name": "stderr",
     "output_type": "stream",
     "text": [
      "C:\\Users\\anime\\Anaconda3\\lib\\site-packages\\ipykernel_launcher.py:2: SettingWithCopyWarning: \n",
      "A value is trying to be set on a copy of a slice from a DataFrame.\n",
      "Try using .loc[row_indexer,col_indexer] = value instead\n",
      "\n",
      "See the caveats in the documentation: http://pandas.pydata.org/pandas-docs/stable/indexing.html#indexing-view-versus-copy\n",
      "  \n",
      "C:\\Users\\anime\\Anaconda3\\lib\\site-packages\\ipykernel_launcher.py:3: SettingWithCopyWarning: \n",
      "A value is trying to be set on a copy of a slice from a DataFrame.\n",
      "Try using .loc[row_indexer,col_indexer] = value instead\n",
      "\n",
      "See the caveats in the documentation: http://pandas.pydata.org/pandas-docs/stable/indexing.html#indexing-view-versus-copy\n",
      "  This is separate from the ipykernel package so we can avoid doing imports until\n"
     ]
    },
    {
     "data": {
      "text/html": [
       "<div>\n",
       "<style>\n",
       "    .dataframe thead tr:only-child th {\n",
       "        text-align: right;\n",
       "    }\n",
       "\n",
       "    .dataframe thead th {\n",
       "        text-align: left;\n",
       "    }\n",
       "\n",
       "    .dataframe tbody tr th {\n",
       "        vertical-align: top;\n",
       "    }\n",
       "</style>\n",
       "<table border=\"1\" class=\"dataframe\">\n",
       "  <thead>\n",
       "    <tr style=\"text-align: right;\">\n",
       "      <th></th>\n",
       "      <th>nameFirst</th>\n",
       "      <th>nameLast</th>\n",
       "      <th>OBP</th>\n",
       "    </tr>\n",
       "  </thead>\n",
       "  <tbody>\n",
       "    <tr>\n",
       "      <th>0</th>\n",
       "      <td>Edgar</td>\n",
       "      <td>Martinez</td>\n",
       "      <td>0.478873</td>\n",
       "    </tr>\n",
       "    <tr>\n",
       "      <th>1</th>\n",
       "      <td>Frank</td>\n",
       "      <td>Thomas</td>\n",
       "      <td>0.454405</td>\n",
       "    </tr>\n",
       "    <tr>\n",
       "      <th>2</th>\n",
       "      <td>Mark</td>\n",
       "      <td>McGwire</td>\n",
       "      <td>0.440758</td>\n",
       "    </tr>\n",
       "    <tr>\n",
       "      <th>3</th>\n",
       "      <td>Jim</td>\n",
       "      <td>Thome</td>\n",
       "      <td>0.438061</td>\n",
       "    </tr>\n",
       "    <tr>\n",
       "      <th>4</th>\n",
       "      <td>Barry</td>\n",
       "      <td>Bonds</td>\n",
       "      <td>0.431496</td>\n",
       "    </tr>\n",
       "    <tr>\n",
       "      <th>5</th>\n",
       "      <td>Tim</td>\n",
       "      <td>Salmon</td>\n",
       "      <td>0.429467</td>\n",
       "    </tr>\n",
       "    <tr>\n",
       "      <th>6</th>\n",
       "      <td>Chili</td>\n",
       "      <td>Davis</td>\n",
       "      <td>0.429119</td>\n",
       "    </tr>\n",
       "    <tr>\n",
       "      <th>7</th>\n",
       "      <td>Dave</td>\n",
       "      <td>Magadan</td>\n",
       "      <td>0.427553</td>\n",
       "    </tr>\n",
       "    <tr>\n",
       "      <th>8</th>\n",
       "      <td>Chuck</td>\n",
       "      <td>Knoblauch</td>\n",
       "      <td>0.424483</td>\n",
       "    </tr>\n",
       "    <tr>\n",
       "      <th>9</th>\n",
       "      <td>Tim</td>\n",
       "      <td>Naehring</td>\n",
       "      <td>0.414729</td>\n",
       "    </tr>\n",
       "  </tbody>\n",
       "</table>\n",
       "</div>"
      ],
      "text/plain": [
       "  nameFirst   nameLast       OBP\n",
       "0     Edgar   Martinez  0.478873\n",
       "1     Frank     Thomas  0.454405\n",
       "2      Mark    McGwire  0.440758\n",
       "3       Jim      Thome  0.438061\n",
       "4     Barry      Bonds  0.431496\n",
       "5       Tim     Salmon  0.429467\n",
       "6     Chili      Davis  0.429119\n",
       "7      Dave    Magadan  0.427553\n",
       "8     Chuck  Knoblauch  0.424483\n",
       "9       Tim   Naehring  0.414729"
      ]
     },
     "execution_count": 429,
     "metadata": {},
     "output_type": "execute_result"
    }
   ],
   "source": [
    "a = df[df['yearID'] == 1995]\n",
    "a['PA'] = (a['AB']+ a['BB'] + a['HBP'] + a['SH'] + a['SF'])\n",
    "a['OBP'] = ((a['H']+ a['BB'] + a['HBP'])/ (a['AB']+ a['BB'] + a['HBP'] + a['SF']))\n",
    "b = a[a['PA'] >=400]\n",
    "c = b.sort_values( by = ['OBP'], ascending = False).reset_index(drop = True).head(10)\n",
    "c[['nameFirst', 'nameLast', 'OBP']]"
   ]
  },
  {
   "cell_type": "markdown",
   "metadata": {},
   "source": [
    "19)\tWho had the most 3Bs (in total) in 1922, 1925, 1926, and 1928?  I would like a dataframe with first name, last name, number of 3Bs (only one person is required)"
   ]
  },
  {
   "cell_type": "code",
   "execution_count": 430,
   "metadata": {},
   "outputs": [
    {
     "data": {
      "text/html": [
       "<div>\n",
       "<style>\n",
       "    .dataframe thead tr:only-child th {\n",
       "        text-align: right;\n",
       "    }\n",
       "\n",
       "    .dataframe thead th {\n",
       "        text-align: left;\n",
       "    }\n",
       "\n",
       "    .dataframe tbody tr th {\n",
       "        vertical-align: top;\n",
       "    }\n",
       "</style>\n",
       "<table border=\"1\" class=\"dataframe\">\n",
       "  <thead>\n",
       "    <tr style=\"text-align: right;\">\n",
       "      <th></th>\n",
       "      <th>nameFirst</th>\n",
       "      <th>nameLast</th>\n",
       "      <th>3B</th>\n",
       "    </tr>\n",
       "  </thead>\n",
       "  <tbody>\n",
       "    <tr>\n",
       "      <th>0</th>\n",
       "      <td>Curt</td>\n",
       "      <td>Walker</td>\n",
       "      <td>59</td>\n",
       "    </tr>\n",
       "  </tbody>\n",
       "</table>\n",
       "</div>"
      ],
      "text/plain": [
       "  nameFirst nameLast  3B\n",
       "0      Curt   Walker  59"
      ]
     },
     "execution_count": 430,
     "metadata": {},
     "output_type": "execute_result"
    }
   ],
   "source": [
    "a = df[(df['yearID'] == 1922)| (df['yearID'] == 1925) | (df['yearID'] == 1926) | (df['yearID'] == 1928)]\n",
    "b = a[['playerID','nameFirst', 'nameLast', 'yearID','3B']]\n",
    "c = b.groupby(['playerID','nameFirst', 'nameLast'], as_index=False)['3B'].sum()\n",
    "d = c.sort_values(by = ['3B'], ascending = False).reset_index(drop = True)\n",
    "d[['nameFirst', 'nameLast','3B']].head(1)"
   ]
  },
  {
   "cell_type": "markdown",
   "metadata": {},
   "source": [
    "20)\tHow many unique players have hit 30 or more HRs in season while also stealing (SB) 30 more or bases?  A number is okay here"
   ]
  },
  {
   "cell_type": "code",
   "execution_count": 431,
   "metadata": {},
   "outputs": [
    {
     "data": {
      "text/plain": [
       "38"
      ]
     },
     "execution_count": 431,
     "metadata": {},
     "output_type": "execute_result"
    }
   ],
   "source": [
    "#Doubt\n",
    "a = df[['playerID', 'yearID', 'HR', 'SB']]\n",
    "\n",
    "b  = a.groupby(['playerID', 'yearID'],as_index=False).sum()\n",
    "c = b[(b['HR'] >= 30) & (b['SB'] >= 30) ]\n",
    "c\n",
    "#c['playerID'].count()\n",
    "c['playerID'].nunique()\n"
   ]
  },
  {
   "cell_type": "markdown",
   "metadata": {},
   "source": [
    "21) Who had the highest OBP is 1986 with 400 or more ABs? (Dataframe first name, last name, OBP)"
   ]
  },
  {
   "cell_type": "code",
   "execution_count": 432,
   "metadata": {
    "scrolled": true
   },
   "outputs": [
    {
     "name": "stderr",
     "output_type": "stream",
     "text": [
      "C:\\Users\\anime\\Anaconda3\\lib\\site-packages\\pandas\\core\\indexing.py:337: SettingWithCopyWarning: \n",
      "A value is trying to be set on a copy of a slice from a DataFrame.\n",
      "Try using .loc[row_indexer,col_indexer] = value instead\n",
      "\n",
      "See the caveats in the documentation: http://pandas.pydata.org/pandas-docs/stable/indexing.html#indexing-view-versus-copy\n",
      "  self.obj[key] = _infer_fill_value(value)\n",
      "C:\\Users\\anime\\Anaconda3\\lib\\site-packages\\pandas\\core\\indexing.py:517: SettingWithCopyWarning: \n",
      "A value is trying to be set on a copy of a slice from a DataFrame.\n",
      "Try using .loc[row_indexer,col_indexer] = value instead\n",
      "\n",
      "See the caveats in the documentation: http://pandas.pydata.org/pandas-docs/stable/indexing.html#indexing-view-versus-copy\n",
      "  self.obj[item] = s\n"
     ]
    },
    {
     "data": {
      "text/html": [
       "<div>\n",
       "<style>\n",
       "    .dataframe thead tr:only-child th {\n",
       "        text-align: right;\n",
       "    }\n",
       "\n",
       "    .dataframe thead th {\n",
       "        text-align: left;\n",
       "    }\n",
       "\n",
       "    .dataframe tbody tr th {\n",
       "        vertical-align: top;\n",
       "    }\n",
       "</style>\n",
       "<table border=\"1\" class=\"dataframe\">\n",
       "  <thead>\n",
       "    <tr style=\"text-align: right;\">\n",
       "      <th></th>\n",
       "      <th>nameFirst</th>\n",
       "      <th>nameLast</th>\n",
       "      <th>OBP</th>\n",
       "    </tr>\n",
       "  </thead>\n",
       "  <tbody>\n",
       "    <tr>\n",
       "      <th>0</th>\n",
       "      <td>Wade</td>\n",
       "      <td>Boggs</td>\n",
       "      <td>0.45283</td>\n",
       "    </tr>\n",
       "  </tbody>\n",
       "</table>\n",
       "</div>"
      ],
      "text/plain": [
       "  nameFirst nameLast      OBP\n",
       "0      Wade    Boggs  0.45283"
      ]
     },
     "execution_count": 432,
     "metadata": {},
     "output_type": "execute_result"
    }
   ],
   "source": [
    "a = df[(df['yearID'] ==1986) & (df['AB'] >= 400)]\n",
    "a.loc[:,'OBP'] = ((a.loc[:,'H']+ a.loc[:,'BB'] + a.loc[:,'HBP'])/ (a.loc[:,'AB']+ a.loc[:,'BB'] + a.loc[:,'HBP'] + a.loc[:,'SF']))\n",
    "b = a.sort_values(by = ['OBP'], ascending = False).reset_index(drop = True)\n",
    "b[['nameFirst', 'nameLast', 'OBP']].head(1)"
   ]
  },
  {
   "cell_type": "markdown",
   "metadata": {},
   "source": [
    "22)\tSame question but for 1997 and only in the NL (check league ID)? (Dataframe, first name, last name OBP)"
   ]
  },
  {
   "cell_type": "code",
   "execution_count": 433,
   "metadata": {},
   "outputs": [
    {
     "name": "stderr",
     "output_type": "stream",
     "text": [
      "C:\\Users\\anime\\Anaconda3\\lib\\site-packages\\ipykernel_launcher.py:2: SettingWithCopyWarning: \n",
      "A value is trying to be set on a copy of a slice from a DataFrame.\n",
      "Try using .loc[row_indexer,col_indexer] = value instead\n",
      "\n",
      "See the caveats in the documentation: http://pandas.pydata.org/pandas-docs/stable/indexing.html#indexing-view-versus-copy\n",
      "  \n"
     ]
    },
    {
     "data": {
      "text/html": [
       "<div>\n",
       "<style>\n",
       "    .dataframe thead tr:only-child th {\n",
       "        text-align: right;\n",
       "    }\n",
       "\n",
       "    .dataframe thead th {\n",
       "        text-align: left;\n",
       "    }\n",
       "\n",
       "    .dataframe tbody tr th {\n",
       "        vertical-align: top;\n",
       "    }\n",
       "</style>\n",
       "<table border=\"1\" class=\"dataframe\">\n",
       "  <thead>\n",
       "    <tr style=\"text-align: right;\">\n",
       "      <th></th>\n",
       "      <th>nameFirst</th>\n",
       "      <th>nameLast</th>\n",
       "      <th>OBP</th>\n",
       "    </tr>\n",
       "  </thead>\n",
       "  <tbody>\n",
       "    <tr>\n",
       "      <th>0</th>\n",
       "      <td>Larry</td>\n",
       "      <td>Walker</td>\n",
       "      <td>0.451807</td>\n",
       "    </tr>\n",
       "  </tbody>\n",
       "</table>\n",
       "</div>"
      ],
      "text/plain": [
       "  nameFirst nameLast       OBP\n",
       "0     Larry   Walker  0.451807"
      ]
     },
     "execution_count": 433,
     "metadata": {},
     "output_type": "execute_result"
    }
   ],
   "source": [
    "a = df[(df['yearID'] == 1997) & (df['AB'] >= 400) & (df['lgID'] == 'NL')]\n",
    "a['OBP'] = ((a['H']+ a['BB'] + a['HBP'])/ (a['AB']+ a['BB'] + a['HBP'] + a['SF']))\n",
    "b = a.sort_values(by = ['OBP'], ascending = False).reset_index(drop = True)\n",
    "b[['nameFirst', 'nameLast', 'OBP']].head(1)"
   ]
  },
  {
   "cell_type": "markdown",
   "metadata": {},
   "source": [
    "23)\tWho had more than the league average HRs (for players with 500 or more ABs) in 2012 (filter out all players with less 500 ABs)? (Dataframe first name, last name, HR descending) (500 At bats in that league, MLB, ML… does not matter, only year matters)"
   ]
  },
  {
   "cell_type": "code",
   "execution_count": 434,
   "metadata": {},
   "outputs": [
    {
     "data": {
      "text/html": [
       "<div>\n",
       "<style>\n",
       "    .dataframe thead tr:only-child th {\n",
       "        text-align: right;\n",
       "    }\n",
       "\n",
       "    .dataframe thead th {\n",
       "        text-align: left;\n",
       "    }\n",
       "\n",
       "    .dataframe tbody tr th {\n",
       "        vertical-align: top;\n",
       "    }\n",
       "</style>\n",
       "<table border=\"1\" class=\"dataframe\">\n",
       "  <thead>\n",
       "    <tr style=\"text-align: right;\">\n",
       "      <th></th>\n",
       "      <th>nameFirst</th>\n",
       "      <th>nameLast</th>\n",
       "      <th>HR</th>\n",
       "      <th>avgHR</th>\n",
       "    </tr>\n",
       "  </thead>\n",
       "  <tbody>\n",
       "    <tr>\n",
       "      <th>0</th>\n",
       "      <td>Miguel</td>\n",
       "      <td>Cabrera</td>\n",
       "      <td>44</td>\n",
       "      <td>20.672897</td>\n",
       "    </tr>\n",
       "    <tr>\n",
       "      <th>1</th>\n",
       "      <td>Josh</td>\n",
       "      <td>Hamilton</td>\n",
       "      <td>43</td>\n",
       "      <td>20.672897</td>\n",
       "    </tr>\n",
       "    <tr>\n",
       "      <th>2</th>\n",
       "      <td>Curtis</td>\n",
       "      <td>Granderson</td>\n",
       "      <td>43</td>\n",
       "      <td>20.672897</td>\n",
       "    </tr>\n",
       "    <tr>\n",
       "      <th>3</th>\n",
       "      <td>Edwin</td>\n",
       "      <td>Encarnacion</td>\n",
       "      <td>42</td>\n",
       "      <td>20.672897</td>\n",
       "    </tr>\n",
       "    <tr>\n",
       "      <th>4</th>\n",
       "      <td>Ryan</td>\n",
       "      <td>Braun</td>\n",
       "      <td>41</td>\n",
       "      <td>20.672897</td>\n",
       "    </tr>\n",
       "    <tr>\n",
       "      <th>5</th>\n",
       "      <td>Adam</td>\n",
       "      <td>Dunn</td>\n",
       "      <td>41</td>\n",
       "      <td>20.672897</td>\n",
       "    </tr>\n",
       "    <tr>\n",
       "      <th>6</th>\n",
       "      <td>Adrian</td>\n",
       "      <td>Beltre</td>\n",
       "      <td>36</td>\n",
       "      <td>20.672897</td>\n",
       "    </tr>\n",
       "    <tr>\n",
       "      <th>7</th>\n",
       "      <td>Josh</td>\n",
       "      <td>Willingham</td>\n",
       "      <td>35</td>\n",
       "      <td>20.672897</td>\n",
       "    </tr>\n",
       "    <tr>\n",
       "      <th>8</th>\n",
       "      <td>Jay</td>\n",
       "      <td>Bruce</td>\n",
       "      <td>34</td>\n",
       "      <td>20.672897</td>\n",
       "    </tr>\n",
       "    <tr>\n",
       "      <th>9</th>\n",
       "      <td>Adam</td>\n",
       "      <td>LaRoche</td>\n",
       "      <td>33</td>\n",
       "      <td>20.672897</td>\n",
       "    </tr>\n",
       "    <tr>\n",
       "      <th>10</th>\n",
       "      <td>Robinson</td>\n",
       "      <td>Cano</td>\n",
       "      <td>33</td>\n",
       "      <td>20.672897</td>\n",
       "    </tr>\n",
       "    <tr>\n",
       "      <th>11</th>\n",
       "      <td>Chris</td>\n",
       "      <td>Davis</td>\n",
       "      <td>33</td>\n",
       "      <td>20.672897</td>\n",
       "    </tr>\n",
       "    <tr>\n",
       "      <th>12</th>\n",
       "      <td>Adam</td>\n",
       "      <td>Jones</td>\n",
       "      <td>32</td>\n",
       "      <td>20.672897</td>\n",
       "    </tr>\n",
       "    <tr>\n",
       "      <th>13</th>\n",
       "      <td>Mark</td>\n",
       "      <td>Trumbo</td>\n",
       "      <td>32</td>\n",
       "      <td>20.672897</td>\n",
       "    </tr>\n",
       "    <tr>\n",
       "      <th>14</th>\n",
       "      <td>Ike</td>\n",
       "      <td>Davis</td>\n",
       "      <td>32</td>\n",
       "      <td>20.672897</td>\n",
       "    </tr>\n",
       "    <tr>\n",
       "      <th>15</th>\n",
       "      <td>Josh</td>\n",
       "      <td>Reddick</td>\n",
       "      <td>32</td>\n",
       "      <td>20.672897</td>\n",
       "    </tr>\n",
       "    <tr>\n",
       "      <th>16</th>\n",
       "      <td>Carlos</td>\n",
       "      <td>Beltran</td>\n",
       "      <td>32</td>\n",
       "      <td>20.672897</td>\n",
       "    </tr>\n",
       "    <tr>\n",
       "      <th>17</th>\n",
       "      <td>Alfonso</td>\n",
       "      <td>Soriano</td>\n",
       "      <td>32</td>\n",
       "      <td>20.672897</td>\n",
       "    </tr>\n",
       "    <tr>\n",
       "      <th>18</th>\n",
       "      <td>Chase</td>\n",
       "      <td>Headley</td>\n",
       "      <td>31</td>\n",
       "      <td>20.672897</td>\n",
       "    </tr>\n",
       "    <tr>\n",
       "      <th>19</th>\n",
       "      <td>Andrew</td>\n",
       "      <td>McCutchen</td>\n",
       "      <td>31</td>\n",
       "      <td>20.672897</td>\n",
       "    </tr>\n",
       "    <tr>\n",
       "      <th>20</th>\n",
       "      <td>Pedro</td>\n",
       "      <td>Alvarez</td>\n",
       "      <td>30</td>\n",
       "      <td>20.672897</td>\n",
       "    </tr>\n",
       "    <tr>\n",
       "      <th>21</th>\n",
       "      <td>Albert</td>\n",
       "      <td>Pujols</td>\n",
       "      <td>30</td>\n",
       "      <td>20.672897</td>\n",
       "    </tr>\n",
       "    <tr>\n",
       "      <th>22</th>\n",
       "      <td>Prince</td>\n",
       "      <td>Fielder</td>\n",
       "      <td>30</td>\n",
       "      <td>20.672897</td>\n",
       "    </tr>\n",
       "    <tr>\n",
       "      <th>23</th>\n",
       "      <td>Corey</td>\n",
       "      <td>Hart</td>\n",
       "      <td>30</td>\n",
       "      <td>20.672897</td>\n",
       "    </tr>\n",
       "    <tr>\n",
       "      <th>24</th>\n",
       "      <td>Mike</td>\n",
       "      <td>Trout</td>\n",
       "      <td>30</td>\n",
       "      <td>20.672897</td>\n",
       "    </tr>\n",
       "    <tr>\n",
       "      <th>25</th>\n",
       "      <td>Jason</td>\n",
       "      <td>Kubel</td>\n",
       "      <td>30</td>\n",
       "      <td>20.672897</td>\n",
       "    </tr>\n",
       "    <tr>\n",
       "      <th>26</th>\n",
       "      <td>Billy</td>\n",
       "      <td>Butler</td>\n",
       "      <td>29</td>\n",
       "      <td>20.672897</td>\n",
       "    </tr>\n",
       "    <tr>\n",
       "      <th>27</th>\n",
       "      <td>Melvin</td>\n",
       "      <td>Upton</td>\n",
       "      <td>28</td>\n",
       "      <td>20.672897</td>\n",
       "    </tr>\n",
       "    <tr>\n",
       "      <th>28</th>\n",
       "      <td>Aramis</td>\n",
       "      <td>Ramirez</td>\n",
       "      <td>27</td>\n",
       "      <td>20.672897</td>\n",
       "    </tr>\n",
       "    <tr>\n",
       "      <th>29</th>\n",
       "      <td>Matt</td>\n",
       "      <td>Holliday</td>\n",
       "      <td>27</td>\n",
       "      <td>20.672897</td>\n",
       "    </tr>\n",
       "    <tr>\n",
       "      <th>30</th>\n",
       "      <td>Jason</td>\n",
       "      <td>Heyward</td>\n",
       "      <td>27</td>\n",
       "      <td>20.672897</td>\n",
       "    </tr>\n",
       "    <tr>\n",
       "      <th>31</th>\n",
       "      <td>Paul</td>\n",
       "      <td>Konerko</td>\n",
       "      <td>26</td>\n",
       "      <td>20.672897</td>\n",
       "    </tr>\n",
       "    <tr>\n",
       "      <th>32</th>\n",
       "      <td>Aaron</td>\n",
       "      <td>Hill</td>\n",
       "      <td>26</td>\n",
       "      <td>20.672897</td>\n",
       "    </tr>\n",
       "    <tr>\n",
       "      <th>33</th>\n",
       "      <td>Alex</td>\n",
       "      <td>Rios</td>\n",
       "      <td>25</td>\n",
       "      <td>20.672897</td>\n",
       "    </tr>\n",
       "    <tr>\n",
       "      <th>34</th>\n",
       "      <td>Dayan</td>\n",
       "      <td>Viciedo</td>\n",
       "      <td>25</td>\n",
       "      <td>20.672897</td>\n",
       "    </tr>\n",
       "    <tr>\n",
       "      <th>35</th>\n",
       "      <td>Ian</td>\n",
       "      <td>Desmond</td>\n",
       "      <td>25</td>\n",
       "      <td>20.672897</td>\n",
       "    </tr>\n",
       "    <tr>\n",
       "      <th>36</th>\n",
       "      <td>Ryan</td>\n",
       "      <td>Zimmerman</td>\n",
       "      <td>25</td>\n",
       "      <td>20.672897</td>\n",
       "    </tr>\n",
       "    <tr>\n",
       "      <th>37</th>\n",
       "      <td>Buster</td>\n",
       "      <td>Posey</td>\n",
       "      <td>24</td>\n",
       "      <td>20.672897</td>\n",
       "    </tr>\n",
       "    <tr>\n",
       "      <th>38</th>\n",
       "      <td>Nelson</td>\n",
       "      <td>Cruz</td>\n",
       "      <td>24</td>\n",
       "      <td>20.672897</td>\n",
       "    </tr>\n",
       "    <tr>\n",
       "      <th>39</th>\n",
       "      <td>Nick</td>\n",
       "      <td>Swisher</td>\n",
       "      <td>24</td>\n",
       "      <td>20.672897</td>\n",
       "    </tr>\n",
       "    <tr>\n",
       "      <th>40</th>\n",
       "      <td>Jimmy</td>\n",
       "      <td>Rollins</td>\n",
       "      <td>23</td>\n",
       "      <td>20.672897</td>\n",
       "    </tr>\n",
       "    <tr>\n",
       "      <th>41</th>\n",
       "      <td>Freddie</td>\n",
       "      <td>Freeman</td>\n",
       "      <td>23</td>\n",
       "      <td>20.672897</td>\n",
       "    </tr>\n",
       "    <tr>\n",
       "      <th>42</th>\n",
       "      <td>Colby</td>\n",
       "      <td>Rasmus</td>\n",
       "      <td>23</td>\n",
       "      <td>20.672897</td>\n",
       "    </tr>\n",
       "    <tr>\n",
       "      <th>43</th>\n",
       "      <td>Matt</td>\n",
       "      <td>Wieters</td>\n",
       "      <td>23</td>\n",
       "      <td>20.672897</td>\n",
       "    </tr>\n",
       "    <tr>\n",
       "      <th>44</th>\n",
       "      <td>Bryce</td>\n",
       "      <td>Harper</td>\n",
       "      <td>22</td>\n",
       "      <td>20.672897</td>\n",
       "    </tr>\n",
       "    <tr>\n",
       "      <th>45</th>\n",
       "      <td>J. J.</td>\n",
       "      <td>Hardy</td>\n",
       "      <td>22</td>\n",
       "      <td>20.672897</td>\n",
       "    </tr>\n",
       "    <tr>\n",
       "      <th>46</th>\n",
       "      <td>Yadier</td>\n",
       "      <td>Molina</td>\n",
       "      <td>22</td>\n",
       "      <td>20.672897</td>\n",
       "    </tr>\n",
       "    <tr>\n",
       "      <th>47</th>\n",
       "      <td>Carlos</td>\n",
       "      <td>Gonzalez</td>\n",
       "      <td>22</td>\n",
       "      <td>20.672897</td>\n",
       "    </tr>\n",
       "    <tr>\n",
       "      <th>48</th>\n",
       "      <td>Rickie</td>\n",
       "      <td>Weeks</td>\n",
       "      <td>21</td>\n",
       "      <td>20.672897</td>\n",
       "    </tr>\n",
       "    <tr>\n",
       "      <th>49</th>\n",
       "      <td>David</td>\n",
       "      <td>Wright</td>\n",
       "      <td>21</td>\n",
       "      <td>20.672897</td>\n",
       "    </tr>\n",
       "  </tbody>\n",
       "</table>\n",
       "</div>"
      ],
      "text/plain": [
       "   nameFirst     nameLast  HR      avgHR\n",
       "0     Miguel      Cabrera  44  20.672897\n",
       "1       Josh     Hamilton  43  20.672897\n",
       "2     Curtis   Granderson  43  20.672897\n",
       "3      Edwin  Encarnacion  42  20.672897\n",
       "4       Ryan        Braun  41  20.672897\n",
       "5       Adam         Dunn  41  20.672897\n",
       "6     Adrian       Beltre  36  20.672897\n",
       "7       Josh   Willingham  35  20.672897\n",
       "8        Jay        Bruce  34  20.672897\n",
       "9       Adam      LaRoche  33  20.672897\n",
       "10  Robinson         Cano  33  20.672897\n",
       "11     Chris        Davis  33  20.672897\n",
       "12      Adam        Jones  32  20.672897\n",
       "13      Mark       Trumbo  32  20.672897\n",
       "14       Ike        Davis  32  20.672897\n",
       "15      Josh      Reddick  32  20.672897\n",
       "16    Carlos      Beltran  32  20.672897\n",
       "17   Alfonso      Soriano  32  20.672897\n",
       "18     Chase      Headley  31  20.672897\n",
       "19    Andrew    McCutchen  31  20.672897\n",
       "20     Pedro      Alvarez  30  20.672897\n",
       "21    Albert       Pujols  30  20.672897\n",
       "22    Prince      Fielder  30  20.672897\n",
       "23     Corey         Hart  30  20.672897\n",
       "24      Mike        Trout  30  20.672897\n",
       "25     Jason        Kubel  30  20.672897\n",
       "26     Billy       Butler  29  20.672897\n",
       "27    Melvin        Upton  28  20.672897\n",
       "28    Aramis      Ramirez  27  20.672897\n",
       "29      Matt     Holliday  27  20.672897\n",
       "30     Jason      Heyward  27  20.672897\n",
       "31      Paul      Konerko  26  20.672897\n",
       "32     Aaron         Hill  26  20.672897\n",
       "33      Alex         Rios  25  20.672897\n",
       "34     Dayan      Viciedo  25  20.672897\n",
       "35       Ian      Desmond  25  20.672897\n",
       "36      Ryan    Zimmerman  25  20.672897\n",
       "37    Buster        Posey  24  20.672897\n",
       "38    Nelson         Cruz  24  20.672897\n",
       "39      Nick      Swisher  24  20.672897\n",
       "40     Jimmy      Rollins  23  20.672897\n",
       "41   Freddie      Freeman  23  20.672897\n",
       "42     Colby       Rasmus  23  20.672897\n",
       "43      Matt      Wieters  23  20.672897\n",
       "44     Bryce       Harper  22  20.672897\n",
       "45     J. J.        Hardy  22  20.672897\n",
       "46    Yadier       Molina  22  20.672897\n",
       "47    Carlos     Gonzalez  22  20.672897\n",
       "48    Rickie        Weeks  21  20.672897\n",
       "49     David       Wright  21  20.672897"
      ]
     },
     "execution_count": 434,
     "metadata": {},
     "output_type": "execute_result"
    }
   ],
   "source": [
    "a = df[(df['yearID'] == 2012) & (df['AB'] >= 500) ]\n",
    "n = len(a)\n",
    "sum = a['HR'].sum()\n",
    "avg_HR = (sum/n)\n",
    "b = a[a['HR'] > avg_HR].sort_values(by = ['HR'], ascending = False)\n",
    "c = b[['nameFirst', 'nameLast', 'HR']].reset_index(drop = True)\n",
    "c['avgHR'] = avg_HR\n",
    "c\n"
   ]
  },
  {
   "cell_type": "markdown",
   "metadata": {},
   "source": [
    "24) Who is the youngest player to hit 50 or more HRs in a single season? (Dataframe, first name, last name, HRs, season)"
   ]
  },
  {
   "cell_type": "code",
   "execution_count": 443,
   "metadata": {},
   "outputs": [
    {
     "data": {
      "text/html": [
       "<div>\n",
       "<style>\n",
       "    .dataframe thead tr:only-child th {\n",
       "        text-align: right;\n",
       "    }\n",
       "\n",
       "    .dataframe thead th {\n",
       "        text-align: left;\n",
       "    }\n",
       "\n",
       "    .dataframe tbody tr th {\n",
       "        vertical-align: top;\n",
       "    }\n",
       "</style>\n",
       "<table border=\"1\" class=\"dataframe\">\n",
       "  <thead>\n",
       "    <tr style=\"text-align: right;\">\n",
       "      <th></th>\n",
       "      <th>nameFirst</th>\n",
       "      <th>nameLast</th>\n",
       "      <th>HR</th>\n",
       "      <th>yearID</th>\n",
       "      <th>birthYear</th>\n",
       "    </tr>\n",
       "  </thead>\n",
       "  <tbody>\n",
       "    <tr>\n",
       "      <th>0</th>\n",
       "      <td>Chris</td>\n",
       "      <td>Davis</td>\n",
       "      <td>53</td>\n",
       "      <td>2013</td>\n",
       "      <td>1986</td>\n",
       "    </tr>\n",
       "  </tbody>\n",
       "</table>\n",
       "</div>"
      ],
      "text/plain": [
       "  nameFirst nameLast  HR  yearID  birthYear\n",
       "0     Chris    Davis  53    2013       1986"
      ]
     },
     "execution_count": 443,
     "metadata": {},
     "output_type": "execute_result"
    }
   ],
   "source": [
    "a = (df.groupby(['playerID','nameFirst', 'nameLast', 'yearID'], as_index=False))['HR'].sum()\n",
    "b = a[a['HR'] >= 50]\n",
    "c = df[['playerID','birthYear' ]]\n",
    "d = c.drop_duplicates()\n",
    "e = pd.merge(b, d, on='playerID')\n",
    "f = e.sort_values(by = ['birthYear'], ascending = False)\n",
    "g = f[['nameFirst','nameLast', 'HR','yearID','birthYear']].reset_index(drop = True)\n",
    "g.head(1)\n",
    "\n"
   ]
  },
  {
   "cell_type": "markdown",
   "metadata": {},
   "source": [
    "25)\tWho are the five youngest players to hit 300 or more HRs for their career? (Dataframe, first name, last name, season they eclipsed more than 300 HRs)"
   ]
  },
  {
   "cell_type": "code",
   "execution_count": 444,
   "metadata": {},
   "outputs": [
    {
     "data": {
      "text/html": [
       "<div>\n",
       "<style>\n",
       "    .dataframe thead tr:only-child th {\n",
       "        text-align: right;\n",
       "    }\n",
       "\n",
       "    .dataframe thead th {\n",
       "        text-align: left;\n",
       "    }\n",
       "\n",
       "    .dataframe tbody tr th {\n",
       "        vertical-align: top;\n",
       "    }\n",
       "</style>\n",
       "<table border=\"1\" class=\"dataframe\">\n",
       "  <thead>\n",
       "    <tr style=\"text-align: right;\">\n",
       "      <th></th>\n",
       "      <th>nameFirst</th>\n",
       "      <th>nameLast</th>\n",
       "      <th>birthYear</th>\n",
       "    </tr>\n",
       "  </thead>\n",
       "  <tbody>\n",
       "    <tr>\n",
       "      <th>0</th>\n",
       "      <td>Prince</td>\n",
       "      <td>Fielder</td>\n",
       "      <td>1984</td>\n",
       "    </tr>\n",
       "    <tr>\n",
       "      <th>1</th>\n",
       "      <td>Edwin</td>\n",
       "      <td>Encarnacion</td>\n",
       "      <td>1983</td>\n",
       "    </tr>\n",
       "    <tr>\n",
       "      <th>2</th>\n",
       "      <td>Miguel</td>\n",
       "      <td>Cabrera</td>\n",
       "      <td>1983</td>\n",
       "    </tr>\n",
       "    <tr>\n",
       "      <th>3</th>\n",
       "      <td>Adrian</td>\n",
       "      <td>Gonzalez</td>\n",
       "      <td>1982</td>\n",
       "    </tr>\n",
       "    <tr>\n",
       "      <th>4</th>\n",
       "      <td>Albert</td>\n",
       "      <td>Pujols</td>\n",
       "      <td>1980</td>\n",
       "    </tr>\n",
       "  </tbody>\n",
       "</table>\n",
       "</div>"
      ],
      "text/plain": [
       "  nameFirst     nameLast  birthYear\n",
       "0    Prince      Fielder       1984\n",
       "1     Edwin  Encarnacion       1983\n",
       "2    Miguel      Cabrera       1983\n",
       "3    Adrian     Gonzalez       1982\n",
       "4    Albert       Pujols       1980"
      ]
     },
     "execution_count": 444,
     "metadata": {},
     "output_type": "execute_result"
    }
   ],
   "source": [
    "a = (df.groupby(['playerID','nameFirst', 'nameLast','birthYear'], as_index=False))['HR'].sum()\n",
    "b = a[a['HR'] >=300].sort_values(by = ['birthYear'], ascending = False).reset_index(drop = True).head()\n",
    "c = b[['nameFirst', 'nameLast','birthYear']]\n",
    "c\n",
    "#d = (df.groupby(['playerID','yearID'], as_index=False))['HR'].sum()\n",
    "#d.sort_values(by = ['HR'], ascending = False).head()"
   ]
  },
  {
   "cell_type": "markdown",
   "metadata": {},
   "source": [
    "Grading: Each task will be worth 3.5 pts (there will be 25 total).  Naming convention and github link will be worth 6.25 pts apiece.  I will include the two bonus questions which will be worth 1 pt apiece (they will be simple viz questions)\n",
    "BONUS:  Graph total HRs per season using bar graph\n",
    "\n",
    "Using a line graph please graph the average HRs per AB (think about this) per season\n",
    "\n",
    "Helpful links: \n",
    "https://www.baseball-reference.com/bullpen/On_base_percentage\n",
    "https://www.baseball-reference.com/bullpen/Batting_average\n"
   ]
  },
  {
   "cell_type": "code",
   "execution_count": 305,
   "metadata": {
    "collapsed": true
   },
   "outputs": [],
   "source": [
    "import matplotlib.pyplot as plt"
   ]
  },
  {
   "cell_type": "markdown",
   "metadata": {},
   "source": [
    "Bonus Ques1: Graph total HRs per season using bar graph"
   ]
  },
  {
   "cell_type": "code",
   "execution_count": 353,
   "metadata": {},
   "outputs": [
    {
     "data": {
      "image/png": "[encoded data removed]",
      "text/plain": [
       "<matplotlib.figure.Figure at 0x16fcad9e5f8>"
      ]
     },
     "metadata": {},
     "output_type": "display_data"
    }
   ],
   "source": [
    "a = df.groupby(['yearID'], as_index = False)['HR'].sum()\n",
    "a.plot('yearID', 'HR', kind='bar', color='b')\n",
    "plt.show()"
   ]
  },
  {
   "cell_type": "markdown",
   "metadata": {},
   "source": [
    "Bonus Ques2: Using a line graph please graph the average HRs per AB (think about this) per season"
   ]
  },
  {
   "cell_type": "code",
   "execution_count": 446,
   "metadata": {},
   "outputs": [
    {
     "data": {
      "image/png": "[encoded data removed]",
      "text/plain": [
       "<matplotlib.figure.Figure at 0x16fcabc7a20>"
      ]
     },
     "metadata": {},
     "output_type": "display_data"
    }
   ],
   "source": [
    "a = df[['yearID', 'HR', 'AB']]\n",
    "b = a.groupby(['yearID']).sum().reset_index(drop = False)\n",
    "b['avgHR_per_AB'] = (b['HR']/b['AB'])\n",
    "b\n",
    "lines = b.plot.line(x='yearID', y='avgHR_per_AB')\n",
    "plt.show()"
   ]
  }
 ],
 "metadata": {
  "kernelspec": {
   "display_name": "Python 3",
   "language": "python",
   "name": "python3"
  },
  "language_info": {
   "codemirror_mode": {
    "name": "ipython",
    "version": 3
   },
   "file_extension": ".py",
   "mimetype": "text/x-python",
   "name": "python",
   "nbconvert_exporter": "python",
   "pygments_lexer": "ipython3",
   "version": "3.6.1"
  }
 },
 "nbformat": 4,
 "nbformat_minor": 2
}
